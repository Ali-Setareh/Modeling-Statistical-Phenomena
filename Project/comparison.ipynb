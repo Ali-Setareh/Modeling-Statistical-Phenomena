{
 "metadata": {
  "language_info": {
   "codemirror_mode": {
    "name": "ipython",
    "version": 3
   },
   "file_extension": ".py",
   "mimetype": "text/x-python",
   "name": "python",
   "nbconvert_exporter": "python",
   "pygments_lexer": "ipython3",
   "version": "3.8.3"
  },
  "orig_nbformat": 2,
  "kernelspec": {
   "name": "python383jvsc74a57bd084d37dffb2af7f268fc7f49b660c49f0933770a2b2a82a03c1aeb1edb794d7a9",
   "display_name": "Python 3.8.3 64-bit ('base': conda)"
  }
 },
 "nbformat": 4,
 "nbformat_minor": 2,
 "cells": [
  {
   "cell_type": "code",
   "execution_count": 1,
   "metadata": {},
   "outputs": [],
   "source": [
    "from gekko import GEKKO \n",
    "import numpy as np \n",
    "from scipy.integrate import solve_ivp\n",
    "import matplotlib.pyplot as plt "
   ]
  },
  {
   "cell_type": "code",
   "execution_count": 2,
   "metadata": {},
   "outputs": [],
   "source": [
    "def sis_time_dependant(t,i,beta,gamma):\n",
    "    return beta*(1-i)*i-gamma*i "
   ]
  },
  {
   "cell_type": "code",
   "execution_count": 3,
   "metadata": {},
   "outputs": [],
   "source": [
    "def sis_constant(nt,nf,beta,gamma,umax,b):\n",
    "    m=GEKKO()\n",
    "    i0=0.01\n",
    "    b=b\n",
    "    nt=nt\n",
    "    tf=nf\n",
    "    u_max=umax\n",
    "    time=np.linspace(0,tf,nt)\n",
    "    m.time=time\n",
    "\n",
    "    beta=beta\n",
    "    x1=m.Var(value=i0,lb=0,ub=1)\n",
    "    x2=m.Var(value=0)\n",
    "    u=m.Param(value=u_max)\n",
    "\n",
    "    p=np.zeros(nt)\n",
    "    p[-1]=1\n",
    "    final = m.Param(value=p)\n",
    "\n",
    "    m.Equation(x1.dt()==-beta*x1**2+(beta-gamma-u)*x1+u)\n",
    "    m.Equation(x2.dt()==b*u**2)\n",
    "    \n",
    "    m.Obj(-x1*final+x2*final)\n",
    "    m.options.IMODE=6\n",
    "    m.solve(disp=False)\n",
    "    return x1.value,u.value,(-x1.value[-1]+x2.value[-1])\n",
    "\n",
    "def sis_optimal(nt,nf,beta,gamma,umax,b):\n",
    "    m=GEKKO()\n",
    "    i0=0.01\n",
    "    b=b\n",
    "    nt=nt\n",
    "    tf=nf\n",
    "    u_max=umax\n",
    "    time=np.linspace(0,tf,nt)\n",
    "    m.time=time\n",
    "\n",
    "    beta=beta\n",
    "    x1=m.Var(value=i0,lb=0,ub=1)\n",
    "    x2=m.Var(value=0)\n",
    "    u=m.Var(value=u_max,lb=0,ub=u_max)\n",
    "\n",
    "    p=np.zeros(nt)\n",
    "    p[-1]=1\n",
    "    final = m.Param(value=p)\n",
    "\n",
    "    m.Equation(x1.dt()==-beta*x1**2+(beta-gamma-u)*x1+u)\n",
    "    m.Equation(x2.dt()==b*u**2)\n",
    "    \n",
    "    m.Obj(-x1*final+x2*final)\n",
    "    m.options.IMODE=6\n",
    "    m.solve(disp=False)\n",
    "    return x1.value,u.value,(-x1.value[-1]+x2.value[-1])"
   ]
  }
 ]
}